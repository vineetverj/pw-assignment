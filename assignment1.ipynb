{
 "cells": [
  {
   "cell_type": "code",
   "execution_count": 10,
   "id": "299fa45d-878d-4440-96c8-37abdc32d0c6",
   "metadata": {},
   "outputs": [],
   "source": [
    "##Q1.Explain with an example each when to use a for loop and a while loop.\n"
   ]
  },
  {
   "cell_type": "code",
   "execution_count": 8,
   "id": "94986258-b533-443f-94c6-b9e66042e105",
   "metadata": {},
   "outputs": [],
   "source": [
    "##1.For Loop: A for loop is generally used when you know the number of   \n",
    "##iterations you want to perform beforehand or when you have a specific collection of items to iterate over\n"
   ]
  },
  {
   "cell_type": "code",
   "execution_count": 4,
   "id": "65927922-05a7-4b5e-9d17-55a29065c75c",
   "metadata": {},
   "outputs": [
    {
     "name": "stdout",
     "output_type": "stream",
     "text": [
      "1\n",
      "2\n",
      "3\n",
      "4\n",
      "5\n"
     ]
    }
   ],
   "source": [
    "  for i in range(1,6):\n",
    "        print(i)\n"
   ]
  },
  {
   "cell_type": "code",
   "execution_count": null,
   "id": "d967ed0f-3da5-4955-911b-5f39ad3e8038",
   "metadata": {},
   "outputs": [],
   "source": [
    "##            2.while loop:\n",
    "                    ##A while loop is used when the number of iterations is not known in      \n",
    "                    ##advance,  and the loop needs to continue until a certain condition is met.\n"
   ]
  },
  {
   "cell_type": "code",
   "execution_count": 3,
   "id": "2cced6e1-34a3-4714-a177-d13838094e17",
   "metadata": {},
   "outputs": [
    {
     "name": "stdout",
     "output_type": "stream",
     "text": [
      "5050\n"
     ]
    }
   ],
   "source": [
    "sum = 0\n",
    "i =1\n",
    "while i<=100:\n",
    "    sum = sum + i\n",
    "    i = i+1\n",
    "print(sum)\n",
    "\n",
    "           "
   ]
  },
  {
   "cell_type": "code",
   "execution_count": 2,
   "id": "491955d6-9ded-4d3c-b2c7-912422a6a46e",
   "metadata": {},
   "outputs": [
    {
     "name": "stdout",
     "output_type": "stream",
     "text": [
      "sum is : 55\n",
      "prod is : 3628800\n"
     ]
    }
   ],
   "source": [
    "##Q2. Write a python program to print the sum and product of the first 10 natural numbers using for\n",
    "##and while loop.\n",
    "##using for loop\n",
    "n = 10\n",
    "sum = 0\n",
    "prod = 1\n",
    "for i in range(1,n+1):\n",
    "    sum = sum + i\n",
    "    prod = prod * i\n",
    "    \n",
    "    \n",
    "print(\"sum is :\",sum)\n",
    "print(\"prod is :\",prod)\n",
    "    \n"
   ]
  },
  {
   "cell_type": "code",
   "execution_count": 5,
   "id": "61619b53-d289-4ac5-914a-a151472fe023",
   "metadata": {},
   "outputs": [
    {
     "name": "stdout",
     "output_type": "stream",
     "text": [
      "sum is: 55\n",
      "prod is: 3628800\n"
     ]
    }
   ],
   "source": [
    "#using while loop\n",
    "n = 10\n",
    "sum = 0\n",
    "prod = 1\n",
    "i =1\n",
    "while(i<=n):\n",
    "    sum = sum + i\n",
    "    prod = prod *i\n",
    "    i = i+1\n",
    "    \n",
    "print(\"sum is:\",sum)\n",
    "print(\"prod is:\",prod)"
   ]
  },
  {
   "cell_type": "code",
   "execution_count": null,
   "id": "a34c9f5c-1299-4f3b-9208-41ba9707db90",
   "metadata": {},
   "outputs": [],
   "source": []
  },
  {
   "cell_type": "code",
   "execution_count": null,
   "id": "aa5203f0-0a6a-49d9-8eac-0006ccd41e56",
   "metadata": {},
   "outputs": [],
   "source": [
    "##Q3. Create a python program to compute the electricity bill for a household.The per-unit charges in rupees are as follows: For the first 100 units, the user will be charged Rs. 4.5 per\n",
    "##unit, for the next 100 units, the user will be charged Rs. 6 per unit, and for the next 100 units, the user will\n",
    "##be charged Rs. 10 per unit, After 300 units and above the user will be charged Rs. 20 per unit.\n",
    "##You are required to take the units of electricity consumed in a month from the user as input.\n",
    "##Your program must pass this test case: when the unit of electricity consumed by the user in a month is\n",
    "##310, the total electricity bill should be 2250.\n",
    "##using for loop\n"
   ]
  },
  {
   "cell_type": "code",
   "execution_count": 6,
   "id": "fa3bb8c3-2daa-4172-834a-15992efa1643",
   "metadata": {},
   "outputs": [],
   "source": [
    " def calculate_electricity_bill(units):\n",
    "\n",
    "    rate_1 = 4.5  \n",
    "    rate_2 = 6    \n",
    "    rate_3 = 10   \n",
    "    rate_4 = 20   \n",
    "\n",
    "    total_bill = 0\n",
    "\n",
    "    for i in range(1, units + 1):\n",
    "        if i <= 100:\n",
    "            total_bill += rate_1\n",
    "        elif i <= 200:\n",
    "            total_bill += rate_2\n",
    "        elif i <= 300:\n",
    "            total_bill += rate_3\n",
    "        else:\n",
    "            total_bill += rate_4\n",
    "\n",
    "    return total_bill\n",
    "\n",
    "\n",
    "units_consumed = int(input(\"Enter the units of electricity consumed in a month: \"))\n",
    "\n",
    "electricity_bill = calculate_electricity_bill(units_consumed)\n",
    "print(\"Electricity Bill: Rs.\", electricity_bill)\n"
   ]
  },
  {
   "cell_type": "code",
   "execution_count": 1,
   "id": "70c06d7c-3f57-41b0-9675-747592b76408",
   "metadata": {},
   "outputs": [],
   "source": [
    "##using while loop\n",
    "def calculate_electricity_bill(units):\n",
    "    \n",
    "    rate_1 = 4.5\n",
    "    rate_2 = 6    \n",
    "    rate_3 = 10   \n",
    "    rate_4 = 20   \n",
    "\n",
    "    total_bill = 0\n",
    "    i = 1\n",
    "\n",
    "    while i <= units:\n",
    "        if i <= 100:\n",
    "            total_bill += rate_1\n",
    "        elif i <= 200:\n",
    "            total_bill += rate_2\n",
    "        elif i <= 300:\n",
    "            total_bill += rate_3\n",
    "        else:\n",
    "            total_bill += rate_4\n",
    "        i += 1\n",
    "\n",
    "    return total_bill\n",
    "\n",
    "\n",
    "\n",
    "units_consumed = int(input(\"Enter the units of electricity consumed in a month: \"))\n",
    "electricity_bill = calculate_electricity_bill(units_consumed)\n",
    "\n",
    "\n",
    "print(\"Electricity Bill: Rs.\", electricity_bill)\n",
    "\n"
   ]
  },
  {
   "cell_type": "code",
   "execution_count": null,
   "id": "a09041c2-f681-4eef-9761-2de105855ba2",
   "metadata": {},
   "outputs": [],
   "source": [
    "##Q4. Create a list of numbers from 1 to 100. Use for loop and while loop to calculate the cube of each\n",
    "##number and if the cube of that number is divisible by 4 or 5 then append that number in a list and print\n",
    "##that list.\n",
    "##using for loop\n"
   ]
  },
  {
   "cell_type": "code",
   "execution_count": 1,
   "id": "00b4d350-c07f-411a-aa2c-aa41d0a0b176",
   "metadata": {},
   "outputs": [
    {
     "name": "stdout",
     "output_type": "stream",
     "text": [
      "Numbers whose cubes are divisible by 4 or 5: [2, 4, 5, 6, 8, 10, 12, 14, 15, 16, 18, 20, 22, 24, 25, 26, 28, 30, 32, 34, 35, 36, 38, 40, 42, 44, 45, 46, 48, 50, 52, 54, 55, 56, 58, 60, 62, 64, 65, 66, 68, 70, 72, 74, 75, 76, 78, 80, 82, 84, 85, 86, 88, 90, 92, 94, 95, 96, 98, 100]\n"
     ]
    }
   ],
   "source": [
    "numbers_list = list(range(1, 101))  \n",
    "\n",
    "cubes_divisible_by_4_or_5 = []\n",
    "for num in numbers_list:\n",
    "    cube = num ** 3\n",
    "    if cube % 4 == 0 or cube % 5 == 0:\n",
    "        cubes_divisible_by_4_or_5.append(num)\n",
    "\n",
    "print(\"Numbers whose cubes are divisible by 4 or 5:\", cubes_divisible_by_4_or_5)\n"
   ]
  },
  {
   "cell_type": "code",
   "execution_count": 2,
   "id": "61321920-6d80-4790-b570-817df00cd327",
   "metadata": {},
   "outputs": [
    {
     "name": "stdout",
     "output_type": "stream",
     "text": [
      "Numbers whose cubes are divisible by 4 or 5: [2, 4, 5, 6, 8, 10, 12, 14, 15, 16, 18, 20, 22, 24, 25, 26, 28, 30, 32, 34, 35, 36, 38, 40, 42, 44, 45, 46, 48, 50, 52, 54, 55, 56, 58, 60, 62, 64, 65, 66, 68, 70, 72, 74, 75, 76, 78, 80, 82, 84, 85, 86, 88, 90, 92, 94, 95, 96, 98, 100]\n"
     ]
    }
   ],
   "source": [
    "##using while loop\n",
    "\n",
    "numbers_list = list(range(1, 101))  \n",
    "\n",
    "cubes_divisible_by_4_or_5 = []\n",
    "i = 0\n",
    "while i < len(numbers_list):\n",
    "    cube = numbers_list[i] ** 3\n",
    "    if cube % 4 == 0 or cube % 5 == 0:\n",
    "        cubes_divisible_by_4_or_5.append(numbers_list[i])\n",
    "    i += 1\n",
    "\n",
    "print(\"Numbers whose cubes are divisible by 4 or 5:\", cubes_divisible_by_4_or_5)\n",
    "\n"
   ]
  },
  {
   "cell_type": "code",
   "execution_count": null,
   "id": "152a352d-c050-4188-9b2e-6b4417ebc141",
   "metadata": {},
   "outputs": [],
   "source": [
    "\n",
    "##Q5. Write a program to filter count vowels in the below-given string.\n",
    "##string = \"I want to become a data scientist\"\n"
   ]
  },
  {
   "cell_type": "code",
   "execution_count": 3,
   "id": "e8e6d2c2-3fe4-4a9b-97cb-a088128733cc",
   "metadata": {},
   "outputs": [
    {
     "name": "stdout",
     "output_type": "stream",
     "text": [
      "Number of vowels in the string: 12\n"
     ]
    }
   ],
   "source": [
    "\n",
    "def count_vowels(string):\n",
    "    vowels = \"aeiouAEIOU\"  \n",
    "    vowel_count = 0\n",
    "\n",
    "    \n",
    "    for char in string:\n",
    "        if char in vowels:  \n",
    "            vowel_count += 1  \n",
    "\n",
    "    return vowel_count\n",
    "\n",
    "\n",
    "string = \"I want to become a data scientist\"\n",
    "vowel_count = count_vowels(string)\n",
    "\n",
    "print(\"Number of vowels in the string:\", vowel_count)\n",
    "\n",
    "\n"
   ]
  },
  {
   "cell_type": "code",
   "execution_count": null,
   "id": "ccd133b1-5a48-472e-853b-b4adeb2cef1c",
   "metadata": {},
   "outputs": [],
   "source": []
  }
 ],
 "metadata": {
  "kernelspec": {
   "display_name": "Python 3",
   "language": "python",
   "name": "python3"
  },
  "language_info": {
   "codemirror_mode": {
    "name": "ipython",
    "version": 3
   },
   "file_extension": ".py",
   "mimetype": "text/x-python",
   "name": "python",
   "nbconvert_exporter": "python",
   "pygments_lexer": "ipython3",
   "version": "3.10.2"
  },
  "vscode": {
   "interpreter": {
    "hash": "369f2c481f4da34e4445cda3fffd2e751bd1c4d706f27375911949ba6bb62e1c"
   }
  }
 },
 "nbformat": 4,
 "nbformat_minor": 5
}
